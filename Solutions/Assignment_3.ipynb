{
 "cells": [
  {
   "cell_type": "markdown",
   "metadata": {},
   "source": [
    "# Big Data Platform\n",
    "## Assignment 3: ServerLess"
   ]
  },
  {
   "cell_type": "markdown",
   "metadata": {},
   "source": [
    "**By:**  \n",
    "\n",
    "John Doe, 300123123  \n",
    "Jane Doe, 200123123\n",
    "\n",
    "<br><br>"
   ]
  },
  {
   "cell_type": "markdown",
   "metadata": {},
   "source": [
    "**The goal of this assignment is to:**\n",
    "- Understand and practice the details of Serverless\n",
    "\n",
    "**Instructions:**\n",
    "- Students will form teams of two people each, and submit a single homework for each team.\n",
    "- The same score for the homework will be given to each member of your team.\n",
    "- Your solution is in the form of a Jupyter notebook file (with extension ipynb).\n",
    "- Images/Graphs/Tables should be submitted inside the notebook.\n",
    "- The notebook should be runnable and properly documented. \n",
    "- Please answer all the questions and include all your code.\n",
    "- You are expected to submit a clear and pythonic code.\n",
    "- You can change functions signatures/definitions.\n",
    "\n",
    "**Submission:**\n",
    "- Submission of the homework will be done via Moodle by uploading (not Zip):\n",
    "    - Jupyter Notebook\n",
    "    - 2 Log files\n",
    "    - Additional local scripts\n",
    "- The homework needs to be entirely in English.\n",
    "- The deadline for submission is on Moodle.\n",
    "- Late submission won't be allowed.\n",
    "\n",
    "  \n",
    "- In case of identical code submissions - both groups will get a Zero. \n",
    "- Some groups might be selected randomly to present their code.\n",
    "\n",
    "**Requirements:**  \n",
    "- Python 3.6 should be used.  \n",
    "- You should implement the algorithms by yourself using only basic Python libraries (such as numpy,pandas,etc.)\n",
    "\n",
    "<br><br><br><br>"
   ]
  },
  {
   "cell_type": "markdown",
   "metadata": {},
   "source": [
    "**Grading:**\n",
    "- Q0 - 10 points - Setup\n",
    "- Q1 - 40 points - Serverless MapReduceEngine\n",
    "- Q2 - 20 points - MapReduce job to calculate inverted index\n",
    "- Q3 - 30 points - Shuffle\n",
    "\n",
    "`Total: 100`"
   ]
  },
  {
   "cell_type": "markdown",
   "metadata": {},
   "source": [
    "<br><br>"
   ]
  },
  {
   "cell_type": "markdown",
   "metadata": {},
   "source": [
    "# Question 0\n",
    "## Setup\n",
    "\n",
    "1. Navigate to IBM Cloud and open a trial account. No need to provide a credit card\n",
    "2. Choose IBM Cloud Object Storage service from the catalog\n",
    "3. Create a new bucket in IBM Cloud Object Storage\n",
    "4. Create credentials for the bucket with HMAC (access key and secret key)\n",
    "5. Choose IBM Cloud Functions service from the catalog and create a service\n",
    "\n",
    "\n",
    "#### Lithops setup\n",
    "1. By using “git” tool, install master branch of the Lithops project from\n",
    "https://github.com/lithops-cloud/lithops\n",
    "2. Follow Lithops documentation and configure Lithops against IBM Cloud Functions and IBM Cloud Object Storage\n",
    "3. Configure Lithops log level to be in DEBUG mode\n",
    "4. Run Hello World example by using Futures API and verify all is working properly.\n",
    "\n",
    "\n",
    "#### IBM Cloud Object Storage setup\n",
    "1. Upload all the input CSV files that you used in homework 2 into the bucket you created in IBM Cloud Object Storage\n",
    "\n",
    "\n",
    "<br><br><br>"
   ]
  },
  {
   "cell_type": "code",
   "execution_count": 6,
   "metadata": {},
   "outputs": [
    {
     "name": "stdout",
     "output_type": "stream",
     "text": [
      "Requirement already satisfied: lithops in /Users/omergralnik/opt/anaconda3/envs/shula/lib/python3.9/site-packages (2.5.8)\n",
      "Requirement already satisfied: ps-mem in /Users/omergralnik/opt/anaconda3/envs/shula/lib/python3.9/site-packages (from lithops) (3.12)\n",
      "Requirement already satisfied: ibm-cos-sdk in /Users/omergralnik/opt/anaconda3/envs/shula/lib/python3.9/site-packages (from lithops) (2.11.0)\n",
      "Requirement already satisfied: pandas in /Users/omergralnik/opt/anaconda3/envs/shula/lib/python3.9/site-packages (from lithops) (1.3.4)\n",
      "Requirement already satisfied: kubernetes in /Users/omergralnik/opt/anaconda3/envs/shula/lib/python3.9/site-packages (from lithops) (21.7.0)\n",
      "Requirement already satisfied: requests in /Users/omergralnik/opt/anaconda3/envs/shula/lib/python3.9/site-packages (from lithops) (2.26.0)\n",
      "Requirement already satisfied: PyYAML in /Users/omergralnik/opt/anaconda3/envs/shula/lib/python3.9/site-packages (from lithops) (6.0)\n",
      "Requirement already satisfied: seaborn in /Users/omergralnik/opt/anaconda3/envs/shula/lib/python3.9/site-packages (from lithops) (0.11.2)\n",
      "Requirement already satisfied: docker in /Users/omergralnik/opt/anaconda3/envs/shula/lib/python3.9/site-packages (from lithops) (5.0.3)\n",
      "Requirement already satisfied: lxml in /Users/omergralnik/opt/anaconda3/envs/shula/lib/python3.9/site-packages (from lithops) (4.7.1)\n",
      "Requirement already satisfied: matplotlib in /Users/omergralnik/opt/anaconda3/envs/shula/lib/python3.9/site-packages (from lithops) (3.5.1)\n",
      "Requirement already satisfied: pika in /Users/omergralnik/opt/anaconda3/envs/shula/lib/python3.9/site-packages (from lithops) (1.2.0)\n",
      "Requirement already satisfied: python-dateutil in /Users/omergralnik/opt/anaconda3/envs/shula/lib/python3.9/site-packages (from lithops) (2.8.2)\n",
      "Requirement already satisfied: ibm-vpc in /Users/omergralnik/opt/anaconda3/envs/shula/lib/python3.9/site-packages (from lithops) (0.9.0)\n",
      "Requirement already satisfied: tqdm in /Users/omergralnik/opt/anaconda3/envs/shula/lib/python3.9/site-packages (from lithops) (4.62.3)\n",
      "Requirement already satisfied: cloudpickle in /Users/omergralnik/opt/anaconda3/envs/shula/lib/python3.9/site-packages (from lithops) (2.0.0)\n",
      "Requirement already satisfied: Click in /Users/omergralnik/opt/anaconda3/envs/shula/lib/python3.9/site-packages (from lithops) (8.0.3)\n",
      "Requirement already satisfied: tblib in /Users/omergralnik/opt/anaconda3/envs/shula/lib/python3.9/site-packages (from lithops) (1.7.0)\n",
      "Requirement already satisfied: redis in /Users/omergralnik/opt/anaconda3/envs/shula/lib/python3.9/site-packages (from lithops) (4.1.0)\n",
      "Requirement already satisfied: paramiko in /Users/omergralnik/opt/anaconda3/envs/shula/lib/python3.9/site-packages (from lithops) (2.9.1)\n",
      "Requirement already satisfied: websocket-client>=0.32.0 in /Users/omergralnik/opt/anaconda3/envs/shula/lib/python3.9/site-packages (from docker->lithops) (1.2.3)\n",
      "Requirement already satisfied: certifi>=2017.4.17 in /Users/omergralnik/opt/anaconda3/envs/shula/lib/python3.9/site-packages (from requests->lithops) (2021.10.8)\n",
      "Requirement already satisfied: urllib3<1.27,>=1.21.1 in /Users/omergralnik/opt/anaconda3/envs/shula/lib/python3.9/site-packages (from requests->lithops) (1.26.7)\n",
      "Requirement already satisfied: idna<4,>=2.5 in /Users/omergralnik/opt/anaconda3/envs/shula/lib/python3.9/site-packages (from requests->lithops) (3.3)\n",
      "Requirement already satisfied: charset-normalizer~=2.0.0 in /Users/omergralnik/opt/anaconda3/envs/shula/lib/python3.9/site-packages (from requests->lithops) (2.0.9)\n",
      "Requirement already satisfied: jmespath<1.0.0,>=0.7.1 in /Users/omergralnik/opt/anaconda3/envs/shula/lib/python3.9/site-packages (from ibm-cos-sdk->lithops) (0.10.0)\n",
      "Requirement already satisfied: ibm-cos-sdk-core==2.11.0 in /Users/omergralnik/opt/anaconda3/envs/shula/lib/python3.9/site-packages (from ibm-cos-sdk->lithops) (2.11.0)\n",
      "Requirement already satisfied: ibm-cos-sdk-s3transfer==2.11.0 in /Users/omergralnik/opt/anaconda3/envs/shula/lib/python3.9/site-packages (from ibm-cos-sdk->lithops) (2.11.0)\n",
      "Requirement already satisfied: six>=1.5 in /Users/omergralnik/opt/anaconda3/envs/shula/lib/python3.9/site-packages (from python-dateutil->lithops) (1.16.0)\n",
      "Requirement already satisfied: ibm-cloud-sdk-core>=3.13.2 in /Users/omergralnik/opt/anaconda3/envs/shula/lib/python3.9/site-packages (from ibm-vpc->lithops) (3.13.2)\n",
      "Requirement already satisfied: PyJWT<3.0.0,>=2.0.1 in /Users/omergralnik/opt/anaconda3/envs/shula/lib/python3.9/site-packages (from ibm-cloud-sdk-core>=3.13.2->ibm-vpc->lithops) (2.3.0)\n",
      "Requirement already satisfied: requests-oauthlib in /Users/omergralnik/opt/anaconda3/envs/shula/lib/python3.9/site-packages (from kubernetes->lithops) (1.3.0)\n",
      "Requirement already satisfied: setuptools>=21.0.0 in /Users/omergralnik/opt/anaconda3/envs/shula/lib/python3.9/site-packages (from kubernetes->lithops) (58.0.4)\n",
      "Requirement already satisfied: google-auth>=1.0.1 in /Users/omergralnik/opt/anaconda3/envs/shula/lib/python3.9/site-packages (from kubernetes->lithops) (2.3.3)\n",
      "Requirement already satisfied: rsa<5,>=3.1.4 in /Users/omergralnik/opt/anaconda3/envs/shula/lib/python3.9/site-packages (from google-auth>=1.0.1->kubernetes->lithops) (4.8)\n",
      "Requirement already satisfied: cachetools<5.0,>=2.0.0 in /Users/omergralnik/opt/anaconda3/envs/shula/lib/python3.9/site-packages (from google-auth>=1.0.1->kubernetes->lithops) (4.2.4)\n",
      "Requirement already satisfied: pyasn1-modules>=0.2.1 in /Users/omergralnik/opt/anaconda3/envs/shula/lib/python3.9/site-packages (from google-auth>=1.0.1->kubernetes->lithops) (0.2.8)\n",
      "Requirement already satisfied: pyasn1<0.5.0,>=0.4.6 in /Users/omergralnik/opt/anaconda3/envs/shula/lib/python3.9/site-packages (from pyasn1-modules>=0.2.1->google-auth>=1.0.1->kubernetes->lithops) (0.4.8)\n",
      "Requirement already satisfied: kiwisolver>=1.0.1 in /Users/omergralnik/opt/anaconda3/envs/shula/lib/python3.9/site-packages (from matplotlib->lithops) (1.3.2)\n",
      "Requirement already satisfied: fonttools>=4.22.0 in /Users/omergralnik/opt/anaconda3/envs/shula/lib/python3.9/site-packages (from matplotlib->lithops) (4.28.4)\n",
      "Requirement already satisfied: packaging>=20.0 in /Users/omergralnik/opt/anaconda3/envs/shula/lib/python3.9/site-packages (from matplotlib->lithops) (21.3)\n",
      "Requirement already satisfied: pillow>=6.2.0 in /Users/omergralnik/opt/anaconda3/envs/shula/lib/python3.9/site-packages (from matplotlib->lithops) (8.4.0)\n",
      "Requirement already satisfied: numpy>=1.17 in /Users/omergralnik/opt/anaconda3/envs/shula/lib/python3.9/site-packages (from matplotlib->lithops) (1.21.4)\n",
      "Requirement already satisfied: pyparsing>=2.2.1 in /Users/omergralnik/opt/anaconda3/envs/shula/lib/python3.9/site-packages (from matplotlib->lithops) (3.0.6)\n",
      "Requirement already satisfied: cycler>=0.10 in /Users/omergralnik/opt/anaconda3/envs/shula/lib/python3.9/site-packages (from matplotlib->lithops) (0.11.0)\n",
      "Requirement already satisfied: pytz>=2017.3 in /Users/omergralnik/opt/anaconda3/envs/shula/lib/python3.9/site-packages (from pandas->lithops) (2021.3)\n",
      "Requirement already satisfied: bcrypt>=3.1.3 in /Users/omergralnik/opt/anaconda3/envs/shula/lib/python3.9/site-packages (from paramiko->lithops) (3.2.0)\n",
      "Requirement already satisfied: cryptography>=2.5 in /Users/omergralnik/opt/anaconda3/envs/shula/lib/python3.9/site-packages (from paramiko->lithops) (36.0.1)\n",
      "Requirement already satisfied: pynacl>=1.0.1 in /Users/omergralnik/opt/anaconda3/envs/shula/lib/python3.9/site-packages (from paramiko->lithops) (1.4.0)\n",
      "Requirement already satisfied: cffi>=1.1 in /Users/omergralnik/opt/anaconda3/envs/shula/lib/python3.9/site-packages (from bcrypt>=3.1.3->paramiko->lithops) (1.15.0)\n",
      "Requirement already satisfied: pycparser in /Users/omergralnik/opt/anaconda3/envs/shula/lib/python3.9/site-packages (from cffi>=1.1->bcrypt>=3.1.3->paramiko->lithops) (2.21)\n",
      "Requirement already satisfied: deprecated>=1.2.3 in /Users/omergralnik/opt/anaconda3/envs/shula/lib/python3.9/site-packages (from redis->lithops) (1.2.13)\n",
      "Requirement already satisfied: wrapt<2,>=1.10 in /Users/omergralnik/opt/anaconda3/envs/shula/lib/python3.9/site-packages (from deprecated>=1.2.3->redis->lithops) (1.13.3)\n",
      "Requirement already satisfied: oauthlib>=3.0.0 in /Users/omergralnik/opt/anaconda3/envs/shula/lib/python3.9/site-packages (from requests-oauthlib->kubernetes->lithops) (3.1.1)\n",
      "Requirement already satisfied: scipy>=1.0 in /Users/omergralnik/opt/anaconda3/envs/shula/lib/python3.9/site-packages (from seaborn->lithops) (1.7.3)\n",
      "Requirement already satisfied: Jinja2 in /Users/omergralnik/opt/anaconda3/envs/shula/lib/python3.9/site-packages (3.0.3)\n",
      "Requirement already satisfied: MarkupSafe>=2.0 in /Users/omergralnik/opt/anaconda3/envs/shula/lib/python3.9/site-packages (from Jinja2) (2.0.1)\n"
     ]
    }
   ],
   "source": [
    "!pip install lithops\n",
    "!pip install Jinja2"
   ]
  },
  {
   "cell_type": "code",
   "execution_count": 7,
   "metadata": {},
   "outputs": [],
   "source": [
    "import sqlite3\n",
    "import os\n",
    "import lithops\n",
    "import shutil\n",
    "import names\n",
    "import random\n",
    "\n",
    "import pandas as pd\n",
    "\n",
    "from pathlib import Path\n",
    "\n",
    "# ! lithops test"
   ]
  },
  {
   "cell_type": "code",
   "execution_count": 8,
   "metadata": {},
   "outputs": [],
   "source": [
    "# define folder path in which the data will be saved\n",
    "folder_path = './outputs'\n",
    "if os.path.isdir('./outputs'):\n",
    "    shutil.rmtree('./outputs')\n",
    "os.mkdir('./outputs')"
   ]
  },
  {
   "cell_type": "code",
   "execution_count": 9,
   "metadata": {},
   "outputs": [],
   "source": [
    "firstname = ['John', 'Dana', 'Scott', 'Marc', 'Steven', 'Michael', 'Albert', 'Johanna']\n",
    "city = ['NewYork', 'Haifa', 'Munchen', 'London', 'PaloAlto',  'TelAviv', 'Kiel', 'Hamburg']\n",
    "\n",
    "# using 'names' library we could easily generate random second names\n",
    "secondname = []\n",
    "for i in range(len(firstname)):\n",
    "    random_name = names.get_first_name()\n",
    "    secondname.append(random_name)\n",
    "    \n",
    "# let's create the 20 csvs\n",
    "for i in range(1,21):\n",
    "    firstname_col = random.choices(firstname, k=8)\n",
    "    secondname_col = random.choices(secondname, k=8)\n",
    "    city_col = random.choices(city, k=8)\n",
    "    df = pd.DataFrame(list(zip(firstname_col, secondname_col, city_col)),\n",
    "                columns=['firstname', 'secondname', 'city'])\n",
    "    df.to_csv(f'{folder_path}/myCSV{i}.csv', index=False)"
   ]
  },
  {
   "cell_type": "code",
   "execution_count": 10,
   "metadata": {},
   "outputs": [],
   "source": [
    "# check if the folder exist, if so then remove it and create a new one\n",
    "if os.path.exists(f'{folder_path}/mapreducetemp'):\n",
    "    shutil.rmtree(f'{folder_path}/mapreducetemp')\n",
    "os.mkdir(f'{folder_path}/mapreducetemp')\n",
    "\n",
    "if os.path.exists(f'{folder_path}/mapreducefinal'):\n",
    "    shutil.rmtree(f'{folder_path}/mapreducefinal')\n",
    "os.mkdir(f'{folder_path}/mapreducefinal')"
   ]
  },
  {
   "cell_type": "code",
   "execution_count": 11,
   "metadata": {},
   "outputs": [
    {
     "data": {
      "text/plain": [
       "<sqlite3.Cursor at 0x7fa3f8ad8340>"
      ]
     },
     "execution_count": 11,
     "metadata": {},
     "output_type": "execute_result"
    }
   ],
   "source": [
    "connection = sqlite3.connect(f'{folder_path}/hw3.db')\n",
    "cursor = connection.cursor()\n",
    "\n",
    "cursor.execute('''CREATE TABLE IF NOT EXISTS temp_results(\n",
    "                    key text,\n",
    "                    value text)''')"
   ]
  },
  {
   "cell_type": "markdown",
   "metadata": {},
   "source": [
    "# Question 1\n",
    "## Serverless MapReduceEngine\n",
    "\n",
    "Modify MapReduceEngine from homework 2 into the MapReduceServerlessEngine where map and reduce tasks executed as a serverless actions, instead of local threads. In particular:\n",
    "1. Deploy all map tasks as a serverless actions by using Lithops against IBM Cloud Functions.\n",
    "2. Collect results from all map tasks and store them in the same SQLite as you used in MapReduceEngine and use the same code for the sort and shuffle phase.\n",
    "3. Deploy reduce tasks by using Lithops against IBM Cloud Functions. Instead of persisting results from reduce tasks, return results back to the MapReduceServerlessEngine and proceed with the same workflow as in MapReduceEngine\n",
    "4. Return results of reduce tasks to the user\n",
    "\n",
    "**Please attach:**  \n",
    "Text file with all log messages Lithops printed to console during the execution. Make\n",
    "sure log level is set to DEBUG mode.\n",
    "\n",
    "#### Code:"
   ]
  },
  {
   "cell_type": "code",
   "execution_count": 12,
   "metadata": {},
   "outputs": [],
   "source": [
    "class MapReduceEngine():\n",
    "    \n",
    "    def execute(self, input_data, map_function, reduce_function):\n",
    "        \n",
    "        with lithops.ServerlessExecutor() as fexec:\n",
    "\n",
    "            for idx, key in enumerate(input_data):\n",
    "\n",
    "                key = f\"{folder_path}/{key}\"\n",
    "                f = fexec.call_async(map_function, (key, idx))\n",
    "                f.result()\n",
    "\n",
    "            for file in os.listdir(f'{folder_path}/mapreducetemp'):\n",
    "\n",
    "                df = pd.read_csv(f'{folder_path}/mapreducetemp/{file}')\n",
    "                df.to_sql('temp_results',connection, if_exists='append',index=False)\n",
    "            \n",
    "            cursor.execute('''SELECT key, GROUP_CONCAT(value) FROM temp_results GROUP BY key ORDER BY key''')\n",
    "            key_value_list = cursor.fetchall()\n",
    "\n",
    "            for idx, value in enumerate(key_value_list):\n",
    "                f = fexec.call_async(reduce_function, (value[0], value[1], idx))\n",
    "                f.result()"
   ]
  },
  {
   "cell_type": "code",
   "execution_count": 13,
   "metadata": {},
   "outputs": [],
   "source": [
    "def inverted_map(document_path: str, idx: int):\n",
    "    \n",
    "    \"\"\"\n",
    "    This function reads the CSV document from the local disc \n",
    "    and return a list that contains entries of the form (key_value, document name)\n",
    "    \"\"\"\n",
    "    # read the csv and create an empty list\n",
    "    document_name = document_path.split('/')[-1]\n",
    "    data = pd.read_csv(document_path)\n",
    "\n",
    "    inverted_list = []\n",
    "    \n",
    "    # convert each row in the csv to a dictionary and add it to the list\n",
    "    for i in range(len(data)):\n",
    "        row_dict = dict(data.iloc[i, :]) # {firstname: John, secondname: Bon, city: TelAviv}\n",
    "        for key, value in row_dict.items():\n",
    "            inverted_list.append((f'{key}_{value}',document_name)) # (firstname_John, secondname_Bon, city_TelAviv)\n",
    "    \n",
    "    df = pd.DataFrame(inverted_list, columns=['key', 'value'])\n",
    "    df.to_csv(f'{folder_path}/mapreducetemp/part-tmp-{idx+1}.csv', index=False)\n",
    "    "
   ]
  },
  {
   "cell_type": "code",
   "execution_count": 14,
   "metadata": {},
   "outputs": [],
   "source": [
    "def inverted_reduce(value, documents, idx):\n",
    "    \"\"\"\n",
    "    The field “documents” contains a list of all CSV documents per given value.\n",
    "    This list might have duplicates.\n",
    "    The function will return new list without duplicates.\n",
    "    \"\"\"\n",
    "    \n",
    "    # convert the long string of csvs to a list\n",
    "    documents = documents.split(',') \n",
    "    results = [value]+list(dict.fromkeys(documents))\n",
    "    df = pd.DataFrame(results[1:], columns=[results[0]])\n",
    "    df.to_csv(f'{folder_path}/mapreducefinal/part-{idx+1}-final.csv', index=False)\n"
   ]
  },
  {
   "cell_type": "code",
   "execution_count": 15,
   "metadata": {},
   "outputs": [
    {
     "name": "stderr",
     "output_type": "stream",
     "text": [
      "2022-01-07 21:24:02,528 [INFO] lithops.config -- Lithops v2.5.8\n",
      "2022-01-07 21:24:02,533 [INFO] lithops.storage.backends.localhost.localhost -- Localhost storage client created\n",
      "2022-01-07 21:24:02,533 [INFO] lithops.localhost.localhost -- Localhost compute client created\n",
      "2022-01-07 21:24:02,534 [INFO] lithops.invokers -- ExecutorID 29a1c5-0 | JobID A000 - Selected Runtime: python \n",
      "2022-01-07 21:24:02,541 [INFO] lithops.invokers -- ExecutorID 29a1c5-0 | JobID A000 - Starting function invocation: inverted_map() - Total: 1 activations\n",
      "2022-01-07 21:24:02,697 [INFO] lithops.invokers -- ExecutorID 29a1c5-0 | JobID A000 - View execution logs at /private/var/folders/0f/tkxs3lld5zl9lflf7d84jrpr0000gn/T/lithops/logs/29a1c5-0-A000.log\n",
      "2022-01-07 21:24:02,704 [INFO] lithops.storage.backends.localhost.localhost -- Localhost storage client created\n",
      "2022-01-07 21:24:04,719 [INFO] lithops.invokers -- ExecutorID 29a1c5-0 | JobID A001 - Selected Runtime: python \n",
      "2022-01-07 21:24:04,732 [INFO] lithops.invokers -- ExecutorID 29a1c5-0 | JobID A001 - Starting function invocation: inverted_map() - Total: 1 activations\n",
      "2022-01-07 21:24:04,735 [INFO] lithops.invokers -- ExecutorID 29a1c5-0 | JobID A001 - View execution logs at /private/var/folders/0f/tkxs3lld5zl9lflf7d84jrpr0000gn/T/lithops/logs/29a1c5-0-A001.log\n",
      "2022-01-07 21:24:04,748 [INFO] lithops.storage.backends.localhost.localhost -- Localhost storage client created\n",
      "2022-01-07 21:24:05,757 [INFO] lithops.invokers -- ExecutorID 29a1c5-0 | JobID A002 - Selected Runtime: python \n",
      "2022-01-07 21:24:05,785 [INFO] lithops.invokers -- ExecutorID 29a1c5-0 | JobID A002 - Starting function invocation: inverted_map() - Total: 1 activations\n",
      "2022-01-07 21:24:05,791 [INFO] lithops.invokers -- ExecutorID 29a1c5-0 | JobID A002 - View execution logs at /private/var/folders/0f/tkxs3lld5zl9lflf7d84jrpr0000gn/T/lithops/logs/29a1c5-0-A002.log\n",
      "2022-01-07 21:24:05,823 [INFO] lithops.storage.backends.localhost.localhost -- Localhost storage client created\n",
      "2022-01-07 21:24:06,833 [INFO] lithops.invokers -- ExecutorID 29a1c5-0 | JobID A003 - Selected Runtime: python \n",
      "2022-01-07 21:24:06,841 [INFO] lithops.invokers -- ExecutorID 29a1c5-0 | JobID A003 - Starting function invocation: inverted_map() - Total: 1 activations\n",
      "2022-01-07 21:24:06,843 [INFO] lithops.invokers -- ExecutorID 29a1c5-0 | JobID A003 - View execution logs at /private/var/folders/0f/tkxs3lld5zl9lflf7d84jrpr0000gn/T/lithops/logs/29a1c5-0-A003.log\n",
      "2022-01-07 21:24:06,851 [INFO] lithops.storage.backends.localhost.localhost -- Localhost storage client created\n",
      "2022-01-07 21:24:07,854 [INFO] lithops.invokers -- ExecutorID 29a1c5-0 | JobID A004 - Selected Runtime: python \n",
      "2022-01-07 21:24:07,859 [INFO] lithops.invokers -- ExecutorID 29a1c5-0 | JobID A004 - Starting function invocation: inverted_map() - Total: 1 activations\n",
      "2022-01-07 21:24:07,861 [INFO] lithops.invokers -- ExecutorID 29a1c5-0 | JobID A004 - View execution logs at /private/var/folders/0f/tkxs3lld5zl9lflf7d84jrpr0000gn/T/lithops/logs/29a1c5-0-A004.log\n",
      "2022-01-07 21:24:07,862 [INFO] lithops.storage.backends.localhost.localhost -- Localhost storage client created\n",
      "2022-01-07 21:24:08,875 [INFO] lithops.invokers -- ExecutorID 29a1c5-0 | JobID A005 - Selected Runtime: python \n",
      "2022-01-07 21:24:08,879 [INFO] lithops.invokers -- ExecutorID 29a1c5-0 | JobID A005 - Starting function invocation: inverted_map() - Total: 1 activations\n",
      "2022-01-07 21:24:08,880 [INFO] lithops.invokers -- ExecutorID 29a1c5-0 | JobID A005 - View execution logs at /private/var/folders/0f/tkxs3lld5zl9lflf7d84jrpr0000gn/T/lithops/logs/29a1c5-0-A005.log\n",
      "2022-01-07 21:24:08,888 [INFO] lithops.storage.backends.localhost.localhost -- Localhost storage client created\n",
      "2022-01-07 21:24:09,896 [INFO] lithops.invokers -- ExecutorID 29a1c5-0 | JobID A006 - Selected Runtime: python \n",
      "2022-01-07 21:24:09,900 [INFO] lithops.invokers -- ExecutorID 29a1c5-0 | JobID A006 - Starting function invocation: inverted_map() - Total: 1 activations\n",
      "2022-01-07 21:24:09,903 [INFO] lithops.invokers -- ExecutorID 29a1c5-0 | JobID A006 - View execution logs at /private/var/folders/0f/tkxs3lld5zl9lflf7d84jrpr0000gn/T/lithops/logs/29a1c5-0-A006.log\n",
      "2022-01-07 21:24:09,912 [INFO] lithops.storage.backends.localhost.localhost -- Localhost storage client created\n",
      "2022-01-07 21:24:10,922 [INFO] lithops.invokers -- ExecutorID 29a1c5-0 | JobID A007 - Selected Runtime: python \n",
      "2022-01-07 21:24:10,927 [INFO] lithops.invokers -- ExecutorID 29a1c5-0 | JobID A007 - Starting function invocation: inverted_map() - Total: 1 activations\n",
      "2022-01-07 21:24:10,928 [INFO] lithops.invokers -- ExecutorID 29a1c5-0 | JobID A007 - View execution logs at /private/var/folders/0f/tkxs3lld5zl9lflf7d84jrpr0000gn/T/lithops/logs/29a1c5-0-A007.log\n",
      "2022-01-07 21:24:10,929 [INFO] lithops.storage.backends.localhost.localhost -- Localhost storage client created\n",
      "2022-01-07 21:24:11,942 [INFO] lithops.invokers -- ExecutorID 29a1c5-0 | JobID A008 - Selected Runtime: python \n",
      "2022-01-07 21:24:11,963 [INFO] lithops.invokers -- ExecutorID 29a1c5-0 | JobID A008 - Starting function invocation: inverted_map() - Total: 1 activations\n",
      "2022-01-07 21:24:11,966 [INFO] lithops.invokers -- ExecutorID 29a1c5-0 | JobID A008 - View execution logs at /private/var/folders/0f/tkxs3lld5zl9lflf7d84jrpr0000gn/T/lithops/logs/29a1c5-0-A008.log\n",
      "2022-01-07 21:24:11,968 [INFO] lithops.storage.backends.localhost.localhost -- Localhost storage client created\n",
      "2022-01-07 21:24:12,975 [INFO] lithops.invokers -- ExecutorID 29a1c5-0 | JobID A009 - Selected Runtime: python \n",
      "2022-01-07 21:24:12,979 [INFO] lithops.invokers -- ExecutorID 29a1c5-0 | JobID A009 - Starting function invocation: inverted_map() - Total: 1 activations\n",
      "2022-01-07 21:24:12,980 [INFO] lithops.invokers -- ExecutorID 29a1c5-0 | JobID A009 - View execution logs at /private/var/folders/0f/tkxs3lld5zl9lflf7d84jrpr0000gn/T/lithops/logs/29a1c5-0-A009.log\n",
      "2022-01-07 21:24:12,989 [INFO] lithops.storage.backends.localhost.localhost -- Localhost storage client created\n",
      "2022-01-07 21:24:13,994 [INFO] lithops.invokers -- ExecutorID 29a1c5-0 | JobID A010 - Selected Runtime: python \n",
      "2022-01-07 21:24:13,998 [INFO] lithops.invokers -- ExecutorID 29a1c5-0 | JobID A010 - Starting function invocation: inverted_map() - Total: 1 activations\n",
      "2022-01-07 21:24:13,999 [INFO] lithops.invokers -- ExecutorID 29a1c5-0 | JobID A010 - View execution logs at /private/var/folders/0f/tkxs3lld5zl9lflf7d84jrpr0000gn/T/lithops/logs/29a1c5-0-A010.log\n",
      "2022-01-07 21:24:14,008 [INFO] lithops.storage.backends.localhost.localhost -- Localhost storage client created\n",
      "2022-01-07 21:24:15,015 [INFO] lithops.invokers -- ExecutorID 29a1c5-0 | JobID A011 - Selected Runtime: python \n",
      "2022-01-07 21:24:15,019 [INFO] lithops.invokers -- ExecutorID 29a1c5-0 | JobID A011 - Starting function invocation: inverted_map() - Total: 1 activations\n",
      "2022-01-07 21:24:15,020 [INFO] lithops.invokers -- ExecutorID 29a1c5-0 | JobID A011 - View execution logs at /private/var/folders/0f/tkxs3lld5zl9lflf7d84jrpr0000gn/T/lithops/logs/29a1c5-0-A011.log\n",
      "2022-01-07 21:24:15,029 [INFO] lithops.storage.backends.localhost.localhost -- Localhost storage client created\n",
      "2022-01-07 21:24:16,031 [INFO] lithops.invokers -- ExecutorID 29a1c5-0 | JobID A012 - Selected Runtime: python \n",
      "2022-01-07 21:24:16,034 [INFO] lithops.invokers -- ExecutorID 29a1c5-0 | JobID A012 - Starting function invocation: inverted_map() - Total: 1 activations\n",
      "2022-01-07 21:24:16,035 [INFO] lithops.invokers -- ExecutorID 29a1c5-0 | JobID A012 - View execution logs at /private/var/folders/0f/tkxs3lld5zl9lflf7d84jrpr0000gn/T/lithops/logs/29a1c5-0-A012.log\n",
      "2022-01-07 21:24:16,043 [INFO] lithops.storage.backends.localhost.localhost -- Localhost storage client created\n",
      "2022-01-07 21:24:17,051 [INFO] lithops.invokers -- ExecutorID 29a1c5-0 | JobID A013 - Selected Runtime: python \n",
      "2022-01-07 21:24:17,054 [INFO] lithops.invokers -- ExecutorID 29a1c5-0 | JobID A013 - Starting function invocation: inverted_map() - Total: 1 activations\n",
      "2022-01-07 21:24:17,055 [INFO] lithops.invokers -- ExecutorID 29a1c5-0 | JobID A013 - View execution logs at /private/var/folders/0f/tkxs3lld5zl9lflf7d84jrpr0000gn/T/lithops/logs/29a1c5-0-A013.log\n",
      "2022-01-07 21:24:17,063 [INFO] lithops.storage.backends.localhost.localhost -- Localhost storage client created\n",
      "2022-01-07 21:24:18,070 [INFO] lithops.invokers -- ExecutorID 29a1c5-0 | JobID A014 - Selected Runtime: python \n",
      "2022-01-07 21:24:18,076 [INFO] lithops.invokers -- ExecutorID 29a1c5-0 | JobID A014 - Starting function invocation: inverted_map() - Total: 1 activations\n",
      "2022-01-07 21:24:18,078 [INFO] lithops.invokers -- ExecutorID 29a1c5-0 | JobID A014 - View execution logs at /private/var/folders/0f/tkxs3lld5zl9lflf7d84jrpr0000gn/T/lithops/logs/29a1c5-0-A014.log\n",
      "2022-01-07 21:24:18,079 [INFO] lithops.storage.backends.localhost.localhost -- Localhost storage client created\n",
      "2022-01-07 21:24:19,094 [INFO] lithops.invokers -- ExecutorID 29a1c5-0 | JobID A015 - Selected Runtime: python \n",
      "2022-01-07 21:24:19,098 [INFO] lithops.invokers -- ExecutorID 29a1c5-0 | JobID A015 - Starting function invocation: inverted_map() - Total: 1 activations\n",
      "2022-01-07 21:24:19,099 [INFO] lithops.invokers -- ExecutorID 29a1c5-0 | JobID A015 - View execution logs at /private/var/folders/0f/tkxs3lld5zl9lflf7d84jrpr0000gn/T/lithops/logs/29a1c5-0-A015.log\n",
      "2022-01-07 21:24:19,100 [INFO] lithops.storage.backends.localhost.localhost -- Localhost storage client created\n",
      "2022-01-07 21:24:20,117 [INFO] lithops.invokers -- ExecutorID 29a1c5-0 | JobID A016 - Selected Runtime: python \n",
      "2022-01-07 21:24:20,124 [INFO] lithops.invokers -- ExecutorID 29a1c5-0 | JobID A016 - Starting function invocation: inverted_map() - Total: 1 activations\n",
      "2022-01-07 21:24:20,125 [INFO] lithops.invokers -- ExecutorID 29a1c5-0 | JobID A016 - View execution logs at /private/var/folders/0f/tkxs3lld5zl9lflf7d84jrpr0000gn/T/lithops/logs/29a1c5-0-A016.log\n",
      "2022-01-07 21:24:20,125 [INFO] lithops.storage.backends.localhost.localhost -- Localhost storage client created\n",
      "2022-01-07 21:24:21,141 [INFO] lithops.invokers -- ExecutorID 29a1c5-0 | JobID A017 - Selected Runtime: python \n",
      "2022-01-07 21:24:21,145 [INFO] lithops.invokers -- ExecutorID 29a1c5-0 | JobID A017 - Starting function invocation: inverted_map() - Total: 1 activations\n",
      "2022-01-07 21:24:21,147 [INFO] lithops.invokers -- ExecutorID 29a1c5-0 | JobID A017 - View execution logs at /private/var/folders/0f/tkxs3lld5zl9lflf7d84jrpr0000gn/T/lithops/logs/29a1c5-0-A017.log\n",
      "2022-01-07 21:24:21,155 [INFO] lithops.storage.backends.localhost.localhost -- Localhost storage client created\n",
      "2022-01-07 21:24:22,162 [INFO] lithops.invokers -- ExecutorID 29a1c5-0 | JobID A018 - Selected Runtime: python \n",
      "2022-01-07 21:24:22,166 [INFO] lithops.invokers -- ExecutorID 29a1c5-0 | JobID A018 - Starting function invocation: inverted_map() - Total: 1 activations\n",
      "2022-01-07 21:24:22,167 [INFO] lithops.invokers -- ExecutorID 29a1c5-0 | JobID A018 - View execution logs at /private/var/folders/0f/tkxs3lld5zl9lflf7d84jrpr0000gn/T/lithops/logs/29a1c5-0-A018.log\n",
      "2022-01-07 21:24:22,168 [INFO] lithops.storage.backends.localhost.localhost -- Localhost storage client created\n",
      "2022-01-07 21:24:23,181 [INFO] lithops.invokers -- ExecutorID 29a1c5-0 | JobID A019 - Selected Runtime: python \n",
      "2022-01-07 21:24:23,184 [INFO] lithops.invokers -- ExecutorID 29a1c5-0 | JobID A019 - Starting function invocation: inverted_map() - Total: 1 activations\n",
      "2022-01-07 21:24:23,203 [INFO] lithops.invokers -- ExecutorID 29a1c5-0 | JobID A019 - View execution logs at /private/var/folders/0f/tkxs3lld5zl9lflf7d84jrpr0000gn/T/lithops/logs/29a1c5-0-A019.log\n",
      "2022-01-07 21:24:23,211 [INFO] lithops.storage.backends.localhost.localhost -- Localhost storage client created\n",
      "2022-01-07 21:24:24,290 [INFO] lithops.invokers -- ExecutorID 29a1c5-0 | JobID A020 - Selected Runtime: python \n",
      "2022-01-07 21:24:24,298 [INFO] lithops.invokers -- ExecutorID 29a1c5-0 | JobID A020 - Starting function invocation: inverted_reduce() - Total: 1 activations\n",
      "2022-01-07 21:24:24,302 [INFO] lithops.invokers -- ExecutorID 29a1c5-0 | JobID A020 - View execution logs at /private/var/folders/0f/tkxs3lld5zl9lflf7d84jrpr0000gn/T/lithops/logs/29a1c5-0-A020.log\n",
      "2022-01-07 21:24:24,331 [INFO] lithops.storage.backends.localhost.localhost -- Localhost storage client created\n",
      "2022-01-07 21:24:25,344 [INFO] lithops.invokers -- ExecutorID 29a1c5-0 | JobID A021 - Selected Runtime: python \n",
      "2022-01-07 21:24:25,349 [INFO] lithops.invokers -- ExecutorID 29a1c5-0 | JobID A021 - Starting function invocation: inverted_reduce() - Total: 1 activations\n",
      "2022-01-07 21:24:25,350 [INFO] lithops.invokers -- ExecutorID 29a1c5-0 | JobID A021 - View execution logs at /private/var/folders/0f/tkxs3lld5zl9lflf7d84jrpr0000gn/T/lithops/logs/29a1c5-0-A021.log\n",
      "2022-01-07 21:24:25,359 [INFO] lithops.storage.backends.localhost.localhost -- Localhost storage client created\n",
      "2022-01-07 21:24:26,368 [INFO] lithops.invokers -- ExecutorID 29a1c5-0 | JobID A022 - Selected Runtime: python \n",
      "2022-01-07 21:24:26,375 [INFO] lithops.invokers -- ExecutorID 29a1c5-0 | JobID A022 - Starting function invocation: inverted_reduce() - Total: 1 activations\n",
      "2022-01-07 21:24:26,378 [INFO] lithops.invokers -- ExecutorID 29a1c5-0 | JobID A022 - View execution logs at /private/var/folders/0f/tkxs3lld5zl9lflf7d84jrpr0000gn/T/lithops/logs/29a1c5-0-A022.log\n",
      "2022-01-07 21:24:26,379 [INFO] lithops.storage.backends.localhost.localhost -- Localhost storage client created\n",
      "2022-01-07 21:24:27,399 [INFO] lithops.invokers -- ExecutorID 29a1c5-0 | JobID A023 - Selected Runtime: python \n",
      "2022-01-07 21:24:27,404 [INFO] lithops.invokers -- ExecutorID 29a1c5-0 | JobID A023 - Starting function invocation: inverted_reduce() - Total: 1 activations\n",
      "2022-01-07 21:24:27,405 [INFO] lithops.invokers -- ExecutorID 29a1c5-0 | JobID A023 - View execution logs at /private/var/folders/0f/tkxs3lld5zl9lflf7d84jrpr0000gn/T/lithops/logs/29a1c5-0-A023.log\n",
      "2022-01-07 21:24:27,413 [INFO] lithops.storage.backends.localhost.localhost -- Localhost storage client created\n",
      "2022-01-07 21:24:28,420 [INFO] lithops.invokers -- ExecutorID 29a1c5-0 | JobID A024 - Selected Runtime: python \n",
      "2022-01-07 21:24:28,424 [INFO] lithops.invokers -- ExecutorID 29a1c5-0 | JobID A024 - Starting function invocation: inverted_reduce() - Total: 1 activations\n",
      "2022-01-07 21:24:28,426 [INFO] lithops.invokers -- ExecutorID 29a1c5-0 | JobID A024 - View execution logs at /private/var/folders/0f/tkxs3lld5zl9lflf7d84jrpr0000gn/T/lithops/logs/29a1c5-0-A024.log\n",
      "2022-01-07 21:24:28,435 [INFO] lithops.storage.backends.localhost.localhost -- Localhost storage client created\n",
      "2022-01-07 21:24:29,443 [INFO] lithops.invokers -- ExecutorID 29a1c5-0 | JobID A025 - Selected Runtime: python \n",
      "2022-01-07 21:24:29,448 [INFO] lithops.invokers -- ExecutorID 29a1c5-0 | JobID A025 - Starting function invocation: inverted_reduce() - Total: 1 activations\n",
      "2022-01-07 21:24:29,449 [INFO] lithops.invokers -- ExecutorID 29a1c5-0 | JobID A025 - View execution logs at /private/var/folders/0f/tkxs3lld5zl9lflf7d84jrpr0000gn/T/lithops/logs/29a1c5-0-A025.log\n",
      "2022-01-07 21:24:29,458 [INFO] lithops.storage.backends.localhost.localhost -- Localhost storage client created\n",
      "2022-01-07 21:24:30,466 [INFO] lithops.invokers -- ExecutorID 29a1c5-0 | JobID A026 - Selected Runtime: python \n",
      "2022-01-07 21:24:30,470 [INFO] lithops.invokers -- ExecutorID 29a1c5-0 | JobID A026 - Starting function invocation: inverted_reduce() - Total: 1 activations\n",
      "2022-01-07 21:24:30,472 [INFO] lithops.invokers -- ExecutorID 29a1c5-0 | JobID A026 - View execution logs at /private/var/folders/0f/tkxs3lld5zl9lflf7d84jrpr0000gn/T/lithops/logs/29a1c5-0-A026.log\n",
      "2022-01-07 21:24:30,473 [INFO] lithops.storage.backends.localhost.localhost -- Localhost storage client created\n",
      "2022-01-07 21:24:31,478 [INFO] lithops.invokers -- ExecutorID 29a1c5-0 | JobID A027 - Selected Runtime: python \n",
      "2022-01-07 21:24:31,481 [INFO] lithops.invokers -- ExecutorID 29a1c5-0 | JobID A027 - Starting function invocation: inverted_reduce() - Total: 1 activations\n",
      "2022-01-07 21:24:31,484 [INFO] lithops.invokers -- ExecutorID 29a1c5-0 | JobID A027 - View execution logs at /private/var/folders/0f/tkxs3lld5zl9lflf7d84jrpr0000gn/T/lithops/logs/29a1c5-0-A027.log\n",
      "2022-01-07 21:24:31,484 [INFO] lithops.storage.backends.localhost.localhost -- Localhost storage client created\n",
      "2022-01-07 21:24:32,494 [INFO] lithops.invokers -- ExecutorID 29a1c5-0 | JobID A028 - Selected Runtime: python \n",
      "2022-01-07 21:24:32,514 [INFO] lithops.invokers -- ExecutorID 29a1c5-0 | JobID A028 - Starting function invocation: inverted_reduce() - Total: 1 activations\n",
      "2022-01-07 21:24:32,515 [INFO] lithops.invokers -- ExecutorID 29a1c5-0 | JobID A028 - View execution logs at /private/var/folders/0f/tkxs3lld5zl9lflf7d84jrpr0000gn/T/lithops/logs/29a1c5-0-A028.log\n",
      "2022-01-07 21:24:32,515 [INFO] lithops.storage.backends.localhost.localhost -- Localhost storage client created\n",
      "2022-01-07 21:24:33,524 [INFO] lithops.invokers -- ExecutorID 29a1c5-0 | JobID A029 - Selected Runtime: python \n",
      "2022-01-07 21:24:33,528 [INFO] lithops.invokers -- ExecutorID 29a1c5-0 | JobID A029 - Starting function invocation: inverted_reduce() - Total: 1 activations\n",
      "2022-01-07 21:24:33,529 [INFO] lithops.invokers -- ExecutorID 29a1c5-0 | JobID A029 - View execution logs at /private/var/folders/0f/tkxs3lld5zl9lflf7d84jrpr0000gn/T/lithops/logs/29a1c5-0-A029.log\n",
      "2022-01-07 21:24:33,536 [INFO] lithops.storage.backends.localhost.localhost -- Localhost storage client created\n",
      "2022-01-07 21:24:34,546 [INFO] lithops.invokers -- ExecutorID 29a1c5-0 | JobID A030 - Selected Runtime: python \n",
      "2022-01-07 21:24:34,555 [INFO] lithops.invokers -- ExecutorID 29a1c5-0 | JobID A030 - Starting function invocation: inverted_reduce() - Total: 1 activations\n",
      "2022-01-07 21:24:34,557 [INFO] lithops.invokers -- ExecutorID 29a1c5-0 | JobID A030 - View execution logs at /private/var/folders/0f/tkxs3lld5zl9lflf7d84jrpr0000gn/T/lithops/logs/29a1c5-0-A030.log\n",
      "2022-01-07 21:24:34,559 [INFO] lithops.storage.backends.localhost.localhost -- Localhost storage client created\n",
      "2022-01-07 21:24:35,575 [INFO] lithops.invokers -- ExecutorID 29a1c5-0 | JobID A031 - Selected Runtime: python \n",
      "2022-01-07 21:24:35,580 [INFO] lithops.invokers -- ExecutorID 29a1c5-0 | JobID A031 - Starting function invocation: inverted_reduce() - Total: 1 activations\n",
      "2022-01-07 21:24:35,582 [INFO] lithops.invokers -- ExecutorID 29a1c5-0 | JobID A031 - View execution logs at /private/var/folders/0f/tkxs3lld5zl9lflf7d84jrpr0000gn/T/lithops/logs/29a1c5-0-A031.log\n",
      "2022-01-07 21:24:35,596 [INFO] lithops.storage.backends.localhost.localhost -- Localhost storage client created\n",
      "2022-01-07 21:24:36,606 [INFO] lithops.invokers -- ExecutorID 29a1c5-0 | JobID A032 - Selected Runtime: python \n",
      "2022-01-07 21:24:36,614 [INFO] lithops.invokers -- ExecutorID 29a1c5-0 | JobID A032 - Starting function invocation: inverted_reduce() - Total: 1 activations\n",
      "2022-01-07 21:24:36,616 [INFO] lithops.invokers -- ExecutorID 29a1c5-0 | JobID A032 - View execution logs at /private/var/folders/0f/tkxs3lld5zl9lflf7d84jrpr0000gn/T/lithops/logs/29a1c5-0-A032.log\n",
      "2022-01-07 21:24:36,616 [INFO] lithops.storage.backends.localhost.localhost -- Localhost storage client created\n",
      "2022-01-07 21:24:37,633 [INFO] lithops.invokers -- ExecutorID 29a1c5-0 | JobID A033 - Selected Runtime: python \n",
      "2022-01-07 21:24:37,637 [INFO] lithops.invokers -- ExecutorID 29a1c5-0 | JobID A033 - Starting function invocation: inverted_reduce() - Total: 1 activations\n",
      "2022-01-07 21:24:37,638 [INFO] lithops.invokers -- ExecutorID 29a1c5-0 | JobID A033 - View execution logs at /private/var/folders/0f/tkxs3lld5zl9lflf7d84jrpr0000gn/T/lithops/logs/29a1c5-0-A033.log\n",
      "2022-01-07 21:24:37,639 [INFO] lithops.storage.backends.localhost.localhost -- Localhost storage client created\n",
      "2022-01-07 21:24:38,657 [INFO] lithops.invokers -- ExecutorID 29a1c5-0 | JobID A034 - Selected Runtime: python \n",
      "2022-01-07 21:24:38,666 [INFO] lithops.invokers -- ExecutorID 29a1c5-0 | JobID A034 - Starting function invocation: inverted_reduce() - Total: 1 activations\n",
      "2022-01-07 21:24:38,667 [INFO] lithops.invokers -- ExecutorID 29a1c5-0 | JobID A034 - View execution logs at /private/var/folders/0f/tkxs3lld5zl9lflf7d84jrpr0000gn/T/lithops/logs/29a1c5-0-A034.log\n",
      "2022-01-07 21:24:38,668 [INFO] lithops.storage.backends.localhost.localhost -- Localhost storage client created\n",
      "2022-01-07 21:24:39,683 [INFO] lithops.invokers -- ExecutorID 29a1c5-0 | JobID A035 - Selected Runtime: python \n",
      "2022-01-07 21:24:39,689 [INFO] lithops.invokers -- ExecutorID 29a1c5-0 | JobID A035 - Starting function invocation: inverted_reduce() - Total: 1 activations\n",
      "2022-01-07 21:24:39,690 [INFO] lithops.invokers -- ExecutorID 29a1c5-0 | JobID A035 - View execution logs at /private/var/folders/0f/tkxs3lld5zl9lflf7d84jrpr0000gn/T/lithops/logs/29a1c5-0-A035.log\n",
      "2022-01-07 21:24:39,699 [INFO] lithops.storage.backends.localhost.localhost -- Localhost storage client created\n",
      "2022-01-07 21:24:40,706 [INFO] lithops.invokers -- ExecutorID 29a1c5-0 | JobID A036 - Selected Runtime: python \n",
      "2022-01-07 21:24:40,711 [INFO] lithops.invokers -- ExecutorID 29a1c5-0 | JobID A036 - Starting function invocation: inverted_reduce() - Total: 1 activations\n",
      "2022-01-07 21:24:40,713 [INFO] lithops.invokers -- ExecutorID 29a1c5-0 | JobID A036 - View execution logs at /private/var/folders/0f/tkxs3lld5zl9lflf7d84jrpr0000gn/T/lithops/logs/29a1c5-0-A036.log\n",
      "2022-01-07 21:24:40,714 [INFO] lithops.storage.backends.localhost.localhost -- Localhost storage client created\n",
      "2022-01-07 21:24:41,731 [INFO] lithops.invokers -- ExecutorID 29a1c5-0 | JobID A037 - Selected Runtime: python \n",
      "2022-01-07 21:24:41,735 [INFO] lithops.invokers -- ExecutorID 29a1c5-0 | JobID A037 - Starting function invocation: inverted_reduce() - Total: 1 activations\n",
      "2022-01-07 21:24:41,738 [INFO] lithops.invokers -- ExecutorID 29a1c5-0 | JobID A037 - View execution logs at /private/var/folders/0f/tkxs3lld5zl9lflf7d84jrpr0000gn/T/lithops/logs/29a1c5-0-A037.log\n",
      "2022-01-07 21:24:41,753 [INFO] lithops.storage.backends.localhost.localhost -- Localhost storage client created\n",
      "2022-01-07 21:24:42,762 [INFO] lithops.invokers -- ExecutorID 29a1c5-0 | JobID A038 - Selected Runtime: python \n",
      "2022-01-07 21:24:42,766 [INFO] lithops.invokers -- ExecutorID 29a1c5-0 | JobID A038 - Starting function invocation: inverted_reduce() - Total: 1 activations\n",
      "2022-01-07 21:24:42,768 [INFO] lithops.invokers -- ExecutorID 29a1c5-0 | JobID A038 - View execution logs at /private/var/folders/0f/tkxs3lld5zl9lflf7d84jrpr0000gn/T/lithops/logs/29a1c5-0-A038.log\n",
      "2022-01-07 21:24:42,768 [INFO] lithops.storage.backends.localhost.localhost -- Localhost storage client created\n",
      "2022-01-07 21:24:43,786 [INFO] lithops.invokers -- ExecutorID 29a1c5-0 | JobID A039 - Selected Runtime: python \n",
      "2022-01-07 21:24:43,794 [INFO] lithops.invokers -- ExecutorID 29a1c5-0 | JobID A039 - Starting function invocation: inverted_reduce() - Total: 1 activations\n",
      "2022-01-07 21:24:43,796 [INFO] lithops.invokers -- ExecutorID 29a1c5-0 | JobID A039 - View execution logs at /private/var/folders/0f/tkxs3lld5zl9lflf7d84jrpr0000gn/T/lithops/logs/29a1c5-0-A039.log\n",
      "2022-01-07 21:24:43,797 [INFO] lithops.storage.backends.localhost.localhost -- Localhost storage client created\n",
      "2022-01-07 21:24:44,815 [INFO] lithops.invokers -- ExecutorID 29a1c5-0 | JobID A040 - Selected Runtime: python \n",
      "2022-01-07 21:24:44,821 [INFO] lithops.invokers -- ExecutorID 29a1c5-0 | JobID A040 - Starting function invocation: inverted_reduce() - Total: 1 activations\n",
      "2022-01-07 21:24:44,822 [INFO] lithops.invokers -- ExecutorID 29a1c5-0 | JobID A040 - View execution logs at /private/var/folders/0f/tkxs3lld5zl9lflf7d84jrpr0000gn/T/lithops/logs/29a1c5-0-A040.log\n",
      "2022-01-07 21:24:44,822 [INFO] lithops.storage.backends.localhost.localhost -- Localhost storage client created\n",
      "2022-01-07 21:24:45,829 [INFO] lithops.invokers -- ExecutorID 29a1c5-0 | JobID A041 - Selected Runtime: python \n",
      "2022-01-07 21:24:45,833 [INFO] lithops.invokers -- ExecutorID 29a1c5-0 | JobID A041 - Starting function invocation: inverted_reduce() - Total: 1 activations\n",
      "2022-01-07 21:24:45,834 [INFO] lithops.invokers -- ExecutorID 29a1c5-0 | JobID A041 - View execution logs at /private/var/folders/0f/tkxs3lld5zl9lflf7d84jrpr0000gn/T/lithops/logs/29a1c5-0-A041.log\n",
      "2022-01-07 21:24:45,844 [INFO] lithops.storage.backends.localhost.localhost -- Localhost storage client created\n",
      "2022-01-07 21:24:46,853 [INFO] lithops.invokers -- ExecutorID 29a1c5-0 | JobID A042 - Selected Runtime: python \n",
      "2022-01-07 21:24:46,858 [INFO] lithops.invokers -- ExecutorID 29a1c5-0 | JobID A042 - Starting function invocation: inverted_reduce() - Total: 1 activations\n",
      "2022-01-07 21:24:46,860 [INFO] lithops.invokers -- ExecutorID 29a1c5-0 | JobID A042 - View execution logs at /private/var/folders/0f/tkxs3lld5zl9lflf7d84jrpr0000gn/T/lithops/logs/29a1c5-0-A042.log\n",
      "2022-01-07 21:24:46,860 [INFO] lithops.storage.backends.localhost.localhost -- Localhost storage client created\n",
      "2022-01-07 21:24:47,877 [INFO] lithops.invokers -- ExecutorID 29a1c5-0 | JobID A043 - Selected Runtime: python \n",
      "2022-01-07 21:24:47,880 [INFO] lithops.invokers -- ExecutorID 29a1c5-0 | JobID A043 - Starting function invocation: inverted_reduce() - Total: 1 activations\n",
      "2022-01-07 21:24:47,881 [INFO] lithops.invokers -- ExecutorID 29a1c5-0 | JobID A043 - View execution logs at /private/var/folders/0f/tkxs3lld5zl9lflf7d84jrpr0000gn/T/lithops/logs/29a1c5-0-A043.log\n",
      "2022-01-07 21:24:47,891 [INFO] lithops.storage.backends.localhost.localhost -- Localhost storage client created\n"
     ]
    }
   ],
   "source": [
    "input_data = [csv for csv in os.listdir(folder_path) if 'csv' in csv]\n",
    "mapreduce = MapReduceEngine()\n",
    "mapreduce.execute(input_data, inverted_map, inverted_reduce)"
   ]
  },
  {
   "cell_type": "markdown",
   "metadata": {},
   "source": [
    "# Task 2\n",
    "## Submit MapReduce job to calculate inverted index\n",
    "1. Use input_data: `cos://bucket/<path to CSV data>`\n",
    "2. Submit MapReduce job with reduce and map functions as you used in homework 2, as follows\n",
    "\n",
    "    `mapreduce = MapReduceServerlessEngine()`  \n",
    "    `results = mapreduce.execute(input_data, inverted_map, inverted_index)`   \n",
    "    `print(results)`\n",
    "\n",
    "**Please attach:**  \n",
    "Text file with all log messages Lithops printed to console during the execution. Make\n",
    "sure log level is set to DEBUG mode.\n",
    "\n",
    "#### Code:"
   ]
  },
  {
   "cell_type": "code",
   "execution_count": null,
   "metadata": {},
   "outputs": [],
   "source": []
  },
  {
   "cell_type": "code",
   "execution_count": null,
   "metadata": {},
   "outputs": [],
   "source": []
  },
  {
   "cell_type": "code",
   "execution_count": null,
   "metadata": {},
   "outputs": [],
   "source": []
  },
  {
   "cell_type": "code",
   "execution_count": null,
   "metadata": {},
   "outputs": [],
   "source": []
  },
  {
   "cell_type": "markdown",
   "metadata": {},
   "source": [
    "# Question 3\n",
    "## Shuffle\n",
    "\n",
    "MapReduceServerlessEngine deploys both map and reduce tasks as serverless invocations.   \n",
    "However, once map stage completed, the result are transferred from the map tasks to the SQLite database located on the client machine (laptop in your case), then performed local shuffle and then invoked reduce tasks passing them relevant parameters.\n",
    "\n",
    "(To support your answers, feel free to use examples, Images, etc.)\n",
    "<br><br>"
   ]
  },
  {
   "cell_type": "markdown",
   "metadata": {},
   "source": [
    "**1. Explain why this approach is not efficient and what are cons and pros of such architecture in general. In broader scope you may assume that MapReduceServerlessEngine executed in some powerful machine and not just laptop.**"
   ]
  },
  {
   "cell_type": "markdown",
   "metadata": {},
   "source": [
    "\\<your answer here>"
   ]
  },
  {
   "cell_type": "markdown",
   "metadata": {},
   "source": [
    "<br><br>\n",
    "**2. Suggest how can you improve shuffle so intermediate data will not be downloaded to the client at all and shuffle performed in the cloud as well. Explain pros and cons of the approaches you suggest.**\n"
   ]
  },
  {
   "cell_type": "markdown",
   "metadata": {},
   "source": [
    "\\<your answer here>"
   ]
  },
  {
   "cell_type": "markdown",
   "metadata": {},
   "source": [
    "<br><br>\n",
    "**3. Can you make serverless shuffle?**\n"
   ]
  },
  {
   "cell_type": "markdown",
   "metadata": {},
   "source": [
    "\\<your answer here>"
   ]
  },
  {
   "cell_type": "markdown",
   "metadata": {},
   "source": [
    "<br><br><br><br>\n",
    "Good Luck :) "
   ]
  }
 ],
 "metadata": {
  "kernelspec": {
   "display_name": "Python 3",
   "language": "python",
   "name": "python3"
  },
  "language_info": {
   "codemirror_mode": {
    "name": "ipython",
    "version": 3
   },
   "file_extension": ".py",
   "mimetype": "text/x-python",
   "name": "python",
   "nbconvert_exporter": "python",
   "pygments_lexer": "ipython3",
   "version": "3.9.7"
  }
 },
 "nbformat": 4,
 "nbformat_minor": 4
}
